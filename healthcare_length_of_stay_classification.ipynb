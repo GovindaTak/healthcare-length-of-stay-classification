{
 "cells": [
  {
   "cell_type": "markdown",
   "id": "b129bed9-bae8-4529-a47b-fb8d35c34571",
   "metadata": {},
   "source": [
    "# HealthHabit - Hospital Multiclassification Problem\n",
    "The Recent COVID-19 pandemic has raised alarms over one of the most overlooked areas to focus on: Healthcare Management. While healthcare management has various use cases for using data science, patient length of stay or LOS in short is one critical parameter to observe and predict if one wants to improve the efficiency of healthcare management in a hospital.\n",
    "This parameter helps hospitals to identify patients of high LOS risk (patients who will stay longer) at the time of admission. Once identified, patients with high LOS risk can have their treatment plan optimized to minimize LOS and lower the chance of staff/visitor infection. Also, prior knowledge of LOS can aid in logistics such as room and bed allocation planning. Ypose we have been hired as a Data Scieforist at Health Habitat a not-for-profit organization dedicated to managing the functioning of Hospitals professionally and optimally. The task is to accurately predict the Length of Stay for each patient on a case-by-case basis so that the Hospitals can use this information for optimal resource allocation and better function PREDICT: The length of stay is divided into 11 different classes ranging from 0-10 days to more than 100 days."
   ]
  },
  {
   "cell_type": "markdown",
   "id": "6d34f496-6a7b-4cad-88ac-029c96fcb5a3",
   "metadata": {},
   "source": [
    "# Step :- 1 Import the needed packages and import data file "
   ]
  },
  {
   "cell_type": "code",
   "execution_count": 114,
   "id": "c54201f0-6cba-4567-9646-a296ab1f358e",
   "metadata": {},
   "outputs": [],
   "source": [
    "import numpy as np\n",
    "import pandas as pd\n",
    "import matplotlib.pyplot as plt\n",
    "import seaborn as sns\n",
    "import torch\n",
    "import torch.nn as nn\n",
    "import torch.nn.functional as F\n",
    "from sklearn.preprocessing import StandardScaler,OneHotEncoder,LabelEncoder,OrdinalEncoder\n",
    "from sklearn.compose import ColumnTransformer\n",
    "from torch.optim import Adam\n",
    "from torch.utils.data import TensorDataset,DataLoader\n",
    "from sklearn.pipeline import make_pipeline\n",
    "from sklearn.model_selection import train_test_split"
   ]
  },
  {
   "cell_type": "code",
   "execution_count": 11,
   "id": "c9f46482-3b32-4636-a630-74397bb2cf88",
   "metadata": {},
   "outputs": [],
   "source": [
    "data=pd.read_csv('4.1(b) hospital_stay_data - hospital_stay_data.csv')"
   ]
  },
  {
   "cell_type": "code",
   "execution_count": 13,
   "id": "ff14d8a1-8ce8-41f9-9b36-d75fa0ce33f2",
   "metadata": {},
   "outputs": [
    {
     "name": "stdout",
     "output_type": "stream",
     "text": [
      "<class 'pandas.core.frame.DataFrame'>\n",
      "RangeIndex: 318438 entries, 0 to 318437\n",
      "Data columns (total 18 columns):\n",
      " #   Column                             Non-Null Count   Dtype  \n",
      "---  ------                             --------------   -----  \n",
      " 0   case_id                            318438 non-null  int64  \n",
      " 1   Hospital_code                      318438 non-null  int64  \n",
      " 2   Hospital_type_code                 318438 non-null  object \n",
      " 3   City_Code_Hospital                 318438 non-null  int64  \n",
      " 4   Hospital_region_code               318438 non-null  object \n",
      " 5   Available Extra Rooms in Hospital  318438 non-null  int64  \n",
      " 6   Department                         318438 non-null  object \n",
      " 7   Ward_Type                          318438 non-null  object \n",
      " 8   Ward_Facility_Code                 318438 non-null  object \n",
      " 9   Bed Grade                          318325 non-null  float64\n",
      " 10  patientid                          318438 non-null  int64  \n",
      " 11  City_Code_Patient                  313906 non-null  float64\n",
      " 12  Type of Admission                  318438 non-null  object \n",
      " 13  Severity of Illness                318438 non-null  object \n",
      " 14  Visitors with Patient              318438 non-null  int64  \n",
      " 15  Age                                318438 non-null  object \n",
      " 16  Admission_Deposit                  318438 non-null  int64  \n",
      " 17  Stay                               318438 non-null  object \n",
      "dtypes: float64(2), int64(7), object(9)\n",
      "memory usage: 43.7+ MB\n"
     ]
    }
   ],
   "source": [
    "data.info()"
   ]
  },
  {
   "cell_type": "markdown",
   "id": "43fc104b-050d-4272-b1e3-a03284c32064",
   "metadata": {},
   "source": [
    "Here our main goal to predict \"stay\" !"
   ]
  },
  {
   "cell_type": "code",
   "execution_count": 16,
   "id": "0f206e16-92fa-42ad-a8eb-7f77106e7d16",
   "metadata": {},
   "outputs": [
    {
     "data": {
      "text/html": [
       "<div>\n",
       "<style scoped>\n",
       "    .dataframe tbody tr th:only-of-type {\n",
       "        vertical-align: middle;\n",
       "    }\n",
       "\n",
       "    .dataframe tbody tr th {\n",
       "        vertical-align: top;\n",
       "    }\n",
       "\n",
       "    .dataframe thead th {\n",
       "        text-align: right;\n",
       "    }\n",
       "</style>\n",
       "<table border=\"1\" class=\"dataframe\">\n",
       "  <thead>\n",
       "    <tr style=\"text-align: right;\">\n",
       "      <th></th>\n",
       "      <th>case_id</th>\n",
       "      <th>Hospital_code</th>\n",
       "      <th>Hospital_type_code</th>\n",
       "      <th>City_Code_Hospital</th>\n",
       "      <th>Hospital_region_code</th>\n",
       "      <th>Available Extra Rooms in Hospital</th>\n",
       "      <th>Department</th>\n",
       "      <th>Ward_Type</th>\n",
       "      <th>Ward_Facility_Code</th>\n",
       "      <th>Bed Grade</th>\n",
       "      <th>patientid</th>\n",
       "      <th>City_Code_Patient</th>\n",
       "      <th>Type of Admission</th>\n",
       "      <th>Severity of Illness</th>\n",
       "      <th>Visitors with Patient</th>\n",
       "      <th>Age</th>\n",
       "      <th>Admission_Deposit</th>\n",
       "      <th>Stay</th>\n",
       "    </tr>\n",
       "  </thead>\n",
       "  <tbody>\n",
       "    <tr>\n",
       "      <th>0</th>\n",
       "      <td>1</td>\n",
       "      <td>8</td>\n",
       "      <td>c</td>\n",
       "      <td>3</td>\n",
       "      <td>Z</td>\n",
       "      <td>3</td>\n",
       "      <td>radiotherapy</td>\n",
       "      <td>R</td>\n",
       "      <td>F</td>\n",
       "      <td>2.0</td>\n",
       "      <td>31397</td>\n",
       "      <td>7.0</td>\n",
       "      <td>Emergency</td>\n",
       "      <td>Extreme</td>\n",
       "      <td>2</td>\n",
       "      <td>51-60</td>\n",
       "      <td>4911</td>\n",
       "      <td>0-10</td>\n",
       "    </tr>\n",
       "    <tr>\n",
       "      <th>1</th>\n",
       "      <td>2</td>\n",
       "      <td>2</td>\n",
       "      <td>c</td>\n",
       "      <td>5</td>\n",
       "      <td>Z</td>\n",
       "      <td>2</td>\n",
       "      <td>radiotherapy</td>\n",
       "      <td>S</td>\n",
       "      <td>F</td>\n",
       "      <td>2.0</td>\n",
       "      <td>31397</td>\n",
       "      <td>7.0</td>\n",
       "      <td>Trauma</td>\n",
       "      <td>Extreme</td>\n",
       "      <td>2</td>\n",
       "      <td>51-60</td>\n",
       "      <td>5954</td>\n",
       "      <td>41-50</td>\n",
       "    </tr>\n",
       "    <tr>\n",
       "      <th>2</th>\n",
       "      <td>3</td>\n",
       "      <td>10</td>\n",
       "      <td>e</td>\n",
       "      <td>1</td>\n",
       "      <td>X</td>\n",
       "      <td>2</td>\n",
       "      <td>anesthesia</td>\n",
       "      <td>S</td>\n",
       "      <td>E</td>\n",
       "      <td>2.0</td>\n",
       "      <td>31397</td>\n",
       "      <td>7.0</td>\n",
       "      <td>Trauma</td>\n",
       "      <td>Extreme</td>\n",
       "      <td>2</td>\n",
       "      <td>51-60</td>\n",
       "      <td>4745</td>\n",
       "      <td>31-40</td>\n",
       "    </tr>\n",
       "    <tr>\n",
       "      <th>3</th>\n",
       "      <td>4</td>\n",
       "      <td>26</td>\n",
       "      <td>b</td>\n",
       "      <td>2</td>\n",
       "      <td>Y</td>\n",
       "      <td>2</td>\n",
       "      <td>radiotherapy</td>\n",
       "      <td>R</td>\n",
       "      <td>D</td>\n",
       "      <td>2.0</td>\n",
       "      <td>31397</td>\n",
       "      <td>7.0</td>\n",
       "      <td>Trauma</td>\n",
       "      <td>Extreme</td>\n",
       "      <td>2</td>\n",
       "      <td>51-60</td>\n",
       "      <td>7272</td>\n",
       "      <td>41-50</td>\n",
       "    </tr>\n",
       "    <tr>\n",
       "      <th>4</th>\n",
       "      <td>5</td>\n",
       "      <td>26</td>\n",
       "      <td>b</td>\n",
       "      <td>2</td>\n",
       "      <td>Y</td>\n",
       "      <td>2</td>\n",
       "      <td>radiotherapy</td>\n",
       "      <td>S</td>\n",
       "      <td>D</td>\n",
       "      <td>2.0</td>\n",
       "      <td>31397</td>\n",
       "      <td>7.0</td>\n",
       "      <td>Trauma</td>\n",
       "      <td>Extreme</td>\n",
       "      <td>2</td>\n",
       "      <td>51-60</td>\n",
       "      <td>5558</td>\n",
       "      <td>41-50</td>\n",
       "    </tr>\n",
       "  </tbody>\n",
       "</table>\n",
       "</div>"
      ],
      "text/plain": [
       "   case_id  Hospital_code Hospital_type_code  City_Code_Hospital  \\\n",
       "0        1              8                  c                   3   \n",
       "1        2              2                  c                   5   \n",
       "2        3             10                  e                   1   \n",
       "3        4             26                  b                   2   \n",
       "4        5             26                  b                   2   \n",
       "\n",
       "  Hospital_region_code  Available Extra Rooms in Hospital    Department  \\\n",
       "0                    Z                                  3  radiotherapy   \n",
       "1                    Z                                  2  radiotherapy   \n",
       "2                    X                                  2    anesthesia   \n",
       "3                    Y                                  2  radiotherapy   \n",
       "4                    Y                                  2  radiotherapy   \n",
       "\n",
       "  Ward_Type Ward_Facility_Code  Bed Grade  patientid  City_Code_Patient  \\\n",
       "0         R                  F        2.0      31397                7.0   \n",
       "1         S                  F        2.0      31397                7.0   \n",
       "2         S                  E        2.0      31397                7.0   \n",
       "3         R                  D        2.0      31397                7.0   \n",
       "4         S                  D        2.0      31397                7.0   \n",
       "\n",
       "  Type of Admission Severity of Illness  Visitors with Patient    Age  \\\n",
       "0         Emergency             Extreme                      2  51-60   \n",
       "1            Trauma             Extreme                      2  51-60   \n",
       "2            Trauma             Extreme                      2  51-60   \n",
       "3            Trauma             Extreme                      2  51-60   \n",
       "4            Trauma             Extreme                      2  51-60   \n",
       "\n",
       "   Admission_Deposit   Stay  \n",
       "0               4911   0-10  \n",
       "1               5954  41-50  \n",
       "2               4745  31-40  \n",
       "3               7272  41-50  \n",
       "4               5558  41-50  "
      ]
     },
     "execution_count": 16,
     "metadata": {},
     "output_type": "execute_result"
    }
   ],
   "source": [
    "data.head()"
   ]
  },
  {
   "cell_type": "code",
   "execution_count": 18,
   "id": "675a207c-3d6d-4d6c-b153-ad67cd5af78d",
   "metadata": {},
   "outputs": [
    {
     "data": {
      "text/html": [
       "<div>\n",
       "<style scoped>\n",
       "    .dataframe tbody tr th:only-of-type {\n",
       "        vertical-align: middle;\n",
       "    }\n",
       "\n",
       "    .dataframe tbody tr th {\n",
       "        vertical-align: top;\n",
       "    }\n",
       "\n",
       "    .dataframe thead th {\n",
       "        text-align: right;\n",
       "    }\n",
       "</style>\n",
       "<table border=\"1\" class=\"dataframe\">\n",
       "  <thead>\n",
       "    <tr style=\"text-align: right;\">\n",
       "      <th></th>\n",
       "      <th>count</th>\n",
       "      <th>mean</th>\n",
       "      <th>std</th>\n",
       "      <th>min</th>\n",
       "      <th>25%</th>\n",
       "      <th>50%</th>\n",
       "      <th>75%</th>\n",
       "      <th>max</th>\n",
       "    </tr>\n",
       "  </thead>\n",
       "  <tbody>\n",
       "    <tr>\n",
       "      <th>case_id</th>\n",
       "      <td>318438.0</td>\n",
       "      <td>159219.500000</td>\n",
       "      <td>91925.276848</td>\n",
       "      <td>1.0</td>\n",
       "      <td>79610.25</td>\n",
       "      <td>159219.5</td>\n",
       "      <td>238828.75</td>\n",
       "      <td>318438.0</td>\n",
       "    </tr>\n",
       "    <tr>\n",
       "      <th>Hospital_code</th>\n",
       "      <td>318438.0</td>\n",
       "      <td>18.318841</td>\n",
       "      <td>8.633755</td>\n",
       "      <td>1.0</td>\n",
       "      <td>11.00</td>\n",
       "      <td>19.0</td>\n",
       "      <td>26.00</td>\n",
       "      <td>32.0</td>\n",
       "    </tr>\n",
       "    <tr>\n",
       "      <th>City_Code_Hospital</th>\n",
       "      <td>318438.0</td>\n",
       "      <td>4.771717</td>\n",
       "      <td>3.102535</td>\n",
       "      <td>1.0</td>\n",
       "      <td>2.00</td>\n",
       "      <td>5.0</td>\n",
       "      <td>7.00</td>\n",
       "      <td>13.0</td>\n",
       "    </tr>\n",
       "    <tr>\n",
       "      <th>Available Extra Rooms in Hospital</th>\n",
       "      <td>318438.0</td>\n",
       "      <td>3.197627</td>\n",
       "      <td>1.168171</td>\n",
       "      <td>0.0</td>\n",
       "      <td>2.00</td>\n",
       "      <td>3.0</td>\n",
       "      <td>4.00</td>\n",
       "      <td>24.0</td>\n",
       "    </tr>\n",
       "    <tr>\n",
       "      <th>Bed Grade</th>\n",
       "      <td>318325.0</td>\n",
       "      <td>2.625807</td>\n",
       "      <td>0.873146</td>\n",
       "      <td>1.0</td>\n",
       "      <td>2.00</td>\n",
       "      <td>3.0</td>\n",
       "      <td>3.00</td>\n",
       "      <td>4.0</td>\n",
       "    </tr>\n",
       "    <tr>\n",
       "      <th>patientid</th>\n",
       "      <td>318438.0</td>\n",
       "      <td>65747.579472</td>\n",
       "      <td>37979.936440</td>\n",
       "      <td>1.0</td>\n",
       "      <td>32847.00</td>\n",
       "      <td>65724.5</td>\n",
       "      <td>98470.00</td>\n",
       "      <td>131624.0</td>\n",
       "    </tr>\n",
       "    <tr>\n",
       "      <th>City_Code_Patient</th>\n",
       "      <td>313906.0</td>\n",
       "      <td>7.251859</td>\n",
       "      <td>4.745266</td>\n",
       "      <td>1.0</td>\n",
       "      <td>4.00</td>\n",
       "      <td>8.0</td>\n",
       "      <td>8.00</td>\n",
       "      <td>38.0</td>\n",
       "    </tr>\n",
       "    <tr>\n",
       "      <th>Visitors with Patient</th>\n",
       "      <td>318438.0</td>\n",
       "      <td>3.284099</td>\n",
       "      <td>1.764061</td>\n",
       "      <td>0.0</td>\n",
       "      <td>2.00</td>\n",
       "      <td>3.0</td>\n",
       "      <td>4.00</td>\n",
       "      <td>32.0</td>\n",
       "    </tr>\n",
       "    <tr>\n",
       "      <th>Admission_Deposit</th>\n",
       "      <td>318438.0</td>\n",
       "      <td>4880.749392</td>\n",
       "      <td>1086.776254</td>\n",
       "      <td>1800.0</td>\n",
       "      <td>4186.00</td>\n",
       "      <td>4741.0</td>\n",
       "      <td>5409.00</td>\n",
       "      <td>11008.0</td>\n",
       "    </tr>\n",
       "  </tbody>\n",
       "</table>\n",
       "</div>"
      ],
      "text/plain": [
       "                                      count           mean           std  \\\n",
       "case_id                            318438.0  159219.500000  91925.276848   \n",
       "Hospital_code                      318438.0      18.318841      8.633755   \n",
       "City_Code_Hospital                 318438.0       4.771717      3.102535   \n",
       "Available Extra Rooms in Hospital  318438.0       3.197627      1.168171   \n",
       "Bed Grade                          318325.0       2.625807      0.873146   \n",
       "patientid                          318438.0   65747.579472  37979.936440   \n",
       "City_Code_Patient                  313906.0       7.251859      4.745266   \n",
       "Visitors with Patient              318438.0       3.284099      1.764061   \n",
       "Admission_Deposit                  318438.0    4880.749392   1086.776254   \n",
       "\n",
       "                                      min       25%       50%        75%  \\\n",
       "case_id                               1.0  79610.25  159219.5  238828.75   \n",
       "Hospital_code                         1.0     11.00      19.0      26.00   \n",
       "City_Code_Hospital                    1.0      2.00       5.0       7.00   \n",
       "Available Extra Rooms in Hospital     0.0      2.00       3.0       4.00   \n",
       "Bed Grade                             1.0      2.00       3.0       3.00   \n",
       "patientid                             1.0  32847.00   65724.5   98470.00   \n",
       "City_Code_Patient                     1.0      4.00       8.0       8.00   \n",
       "Visitors with Patient                 0.0      2.00       3.0       4.00   \n",
       "Admission_Deposit                  1800.0   4186.00    4741.0    5409.00   \n",
       "\n",
       "                                        max  \n",
       "case_id                            318438.0  \n",
       "Hospital_code                          32.0  \n",
       "City_Code_Hospital                     13.0  \n",
       "Available Extra Rooms in Hospital      24.0  \n",
       "Bed Grade                               4.0  \n",
       "patientid                          131624.0  \n",
       "City_Code_Patient                      38.0  \n",
       "Visitors with Patient                  32.0  \n",
       "Admission_Deposit                   11008.0  "
      ]
     },
     "execution_count": 18,
     "metadata": {},
     "output_type": "execute_result"
    }
   ],
   "source": [
    "data.describe().transpose()"
   ]
  },
  {
   "cell_type": "markdown",
   "id": "9ca468e5-8a5e-4f52-b443-423b8c19ce9a",
   "metadata": {},
   "source": [
    "there is 1 thing is common that case id and patientid are never have any impact on our label \"Stay\" . so later we can drop it."
   ]
  },
  {
   "cell_type": "markdown",
   "id": "4a61afa4-e960-4b37-b6fe-2e023d3d7f23",
   "metadata": {},
   "source": [
    "# Step 2 :- Data cleaning mainly handling null values !"
   ]
  },
  {
   "cell_type": "code",
   "execution_count": 25,
   "id": "74a210f4-22c4-4f42-812b-7c37f82fe040",
   "metadata": {},
   "outputs": [
    {
     "data": {
      "text/plain": [
       "case_id                                 0\n",
       "Hospital_code                           0\n",
       "Hospital_type_code                      0\n",
       "City_Code_Hospital                      0\n",
       "Hospital_region_code                    0\n",
       "Available Extra Rooms in Hospital       0\n",
       "Department                              0\n",
       "Ward_Type                               0\n",
       "Ward_Facility_Code                      0\n",
       "Bed Grade                             113\n",
       "patientid                               0\n",
       "City_Code_Patient                    4532\n",
       "Type of Admission                       0\n",
       "Severity of Illness                     0\n",
       "Visitors with Patient                   0\n",
       "Age                                     0\n",
       "Admission_Deposit                       0\n",
       "Stay                                    0\n",
       "dtype: int64"
      ]
     },
     "execution_count": 25,
     "metadata": {},
     "output_type": "execute_result"
    }
   ],
   "source": [
    "#1st let's see who and how many cantains null values :- \n",
    "data.isnull().sum()"
   ]
  },
  {
   "cell_type": "markdown",
   "id": "ba43b579-4d76-4bff-bf8d-c99448aa0422",
   "metadata": {},
   "source": [
    "__We can observe__ 1 thing here that the max'm rows of who contains null values is < 4700 i.e. < 1.47% of total dataset. So if we can drop out such rows who contains null values will not put significent effect on our result or prediction."
   ]
  },
  {
   "cell_type": "code",
   "execution_count": 28,
   "id": "d2665ef8-a494-491b-9af2-deffe7ce32d7",
   "metadata": {},
   "outputs": [],
   "source": [
    "# Let's drop out null values containing rows.\n",
    "data.dropna(inplace=True)"
   ]
  },
  {
   "cell_type": "code",
   "execution_count": 30,
   "id": "89be9d4d-fcfb-4621-8ad2-2374fa14a979",
   "metadata": {},
   "outputs": [
    {
     "data": {
      "text/plain": [
       "case_id                              0\n",
       "Hospital_code                        0\n",
       "Hospital_type_code                   0\n",
       "City_Code_Hospital                   0\n",
       "Hospital_region_code                 0\n",
       "Available Extra Rooms in Hospital    0\n",
       "Department                           0\n",
       "Ward_Type                            0\n",
       "Ward_Facility_Code                   0\n",
       "Bed Grade                            0\n",
       "patientid                            0\n",
       "City_Code_Patient                    0\n",
       "Type of Admission                    0\n",
       "Severity of Illness                  0\n",
       "Visitors with Patient                0\n",
       "Age                                  0\n",
       "Admission_Deposit                    0\n",
       "Stay                                 0\n",
       "dtype: int64"
      ]
     },
     "execution_count": 30,
     "metadata": {},
     "output_type": "execute_result"
    }
   ],
   "source": [
    "data.isnull().sum()"
   ]
  },
  {
   "cell_type": "markdown",
   "id": "16fb3005-7ea0-4c03-8e6f-fd4e5f43ff88",
   "metadata": {},
   "source": [
    "__2) Lets' drop out 2 columns who never have significent role :- case_id , patientid__"
   ]
  },
  {
   "cell_type": "code",
   "execution_count": 38,
   "id": "064b6cac-703c-4b47-85ca-07798a73e951",
   "metadata": {},
   "outputs": [],
   "source": [
    "data.drop(['case_id','patientid'],axis=1,inplace=True)"
   ]
  },
  {
   "cell_type": "markdown",
   "id": "4a2e49a3-4768-4274-9572-afdccf36ae1c",
   "metadata": {},
   "source": [
    "__3) Handling data formating i.e. conversion of object column in numerical.__"
   ]
  },
  {
   "cell_type": "code",
   "execution_count": 43,
   "id": "72234327-85ce-4b04-bce3-d395afab097a",
   "metadata": {},
   "outputs": [
    {
     "data": {
      "text/plain": [
       "Index(['Hospital_type_code', 'Hospital_region_code', 'Department', 'Ward_Type',\n",
       "       'Ward_Facility_Code', 'Type of Admission', 'Severity of Illness', 'Age',\n",
       "       'Stay'],\n",
       "      dtype='object')"
      ]
     },
     "execution_count": 43,
     "metadata": {},
     "output_type": "execute_result"
    }
   ],
   "source": [
    "not_num_col=data.select_dtypes(include='O').columns\n",
    "not_num_col"
   ]
  },
  {
   "cell_type": "markdown",
   "id": "1d5fd178-5ebe-405c-8708-5b128a98e40d",
   "metadata": {},
   "source": [
    "We will handle it in futher coming step !"
   ]
  },
  {
   "cell_type": "markdown",
   "id": "a1b35040-373f-44d0-a2c2-7dd41ab7a3db",
   "metadata": {},
   "source": [
    "# Step 3 :- Data Visualization and taking insight !"
   ]
  },
  {
   "cell_type": "code",
   "execution_count": 54,
   "id": "3262a1ef-c817-4d3f-9cd8-7a70402cee4a",
   "metadata": {},
   "outputs": [
    {
     "data": {
      "text/plain": [
       "<seaborn.axisgrid.FacetGrid at 0x1f409126530>"
      ]
     },
     "execution_count": 54,
     "metadata": {},
     "output_type": "execute_result"
    },
    {
     "data": {
      "text/plain": [
       "<Figure size 2000x2000 with 0 Axes>"
      ]
     },
     "metadata": {},
     "output_type": "display_data"
    },
    {
     "data": {
      "image/png": "[encoded data removed]",
      "text/plain": [
       "<Figure size 500x500 with 1 Axes>"
      ]
     },
     "metadata": {},
     "output_type": "display_data"
    }
   ],
   "source": [
    "plt.figure(figsize=(20,20))\n",
    "sns.displot(data,x='Stay')"
   ]
  },
  {
   "cell_type": "code",
   "execution_count": 56,
   "id": "fc26593d-c23c-4142-a745-154c5725fc27",
   "metadata": {},
   "outputs": [
    {
     "data": {
      "text/html": [
       "<div>\n",
       "<style scoped>\n",
       "    .dataframe tbody tr th:only-of-type {\n",
       "        vertical-align: middle;\n",
       "    }\n",
       "\n",
       "    .dataframe tbody tr th {\n",
       "        vertical-align: top;\n",
       "    }\n",
       "\n",
       "    .dataframe thead th {\n",
       "        text-align: right;\n",
       "    }\n",
       "</style>\n",
       "<table border=\"1\" class=\"dataframe\">\n",
       "  <thead>\n",
       "    <tr style=\"text-align: right;\">\n",
       "      <th></th>\n",
       "      <th>Hospital_code</th>\n",
       "      <th>City_Code_Hospital</th>\n",
       "      <th>Available Extra Rooms in Hospital</th>\n",
       "      <th>Bed Grade</th>\n",
       "      <th>City_Code_Patient</th>\n",
       "      <th>Visitors with Patient</th>\n",
       "      <th>Admission_Deposit</th>\n",
       "    </tr>\n",
       "  </thead>\n",
       "  <tbody>\n",
       "    <tr>\n",
       "      <th>Hospital_code</th>\n",
       "      <td>1.000000</td>\n",
       "      <td>0.128403</td>\n",
       "      <td>-0.059348</td>\n",
       "      <td>-0.013627</td>\n",
       "      <td>-0.015709</td>\n",
       "      <td>-0.028103</td>\n",
       "      <td>0.044950</td>\n",
       "    </tr>\n",
       "    <tr>\n",
       "      <th>City_Code_Hospital</th>\n",
       "      <td>0.128403</td>\n",
       "      <td>1.000000</td>\n",
       "      <td>-0.045547</td>\n",
       "      <td>-0.048096</td>\n",
       "      <td>-0.023951</td>\n",
       "      <td>0.019330</td>\n",
       "      <td>-0.035185</td>\n",
       "    </tr>\n",
       "    <tr>\n",
       "      <th>Available Extra Rooms in Hospital</th>\n",
       "      <td>-0.059348</td>\n",
       "      <td>-0.045547</td>\n",
       "      <td>1.000000</td>\n",
       "      <td>-0.117125</td>\n",
       "      <td>-0.009651</td>\n",
       "      <td>0.096230</td>\n",
       "      <td>-0.143806</td>\n",
       "    </tr>\n",
       "    <tr>\n",
       "      <th>Bed Grade</th>\n",
       "      <td>-0.013627</td>\n",
       "      <td>-0.048096</td>\n",
       "      <td>-0.117125</td>\n",
       "      <td>1.000000</td>\n",
       "      <td>-0.008105</td>\n",
       "      <td>0.088195</td>\n",
       "      <td>0.074930</td>\n",
       "    </tr>\n",
       "    <tr>\n",
       "      <th>City_Code_Patient</th>\n",
       "      <td>-0.015709</td>\n",
       "      <td>-0.023951</td>\n",
       "      <td>-0.009651</td>\n",
       "      <td>-0.008105</td>\n",
       "      <td>1.000000</td>\n",
       "      <td>-0.012107</td>\n",
       "      <td>0.025803</td>\n",
       "    </tr>\n",
       "    <tr>\n",
       "      <th>Visitors with Patient</th>\n",
       "      <td>-0.028103</td>\n",
       "      <td>0.019330</td>\n",
       "      <td>0.096230</td>\n",
       "      <td>0.088195</td>\n",
       "      <td>-0.012107</td>\n",
       "      <td>1.000000</td>\n",
       "      <td>-0.149940</td>\n",
       "    </tr>\n",
       "    <tr>\n",
       "      <th>Admission_Deposit</th>\n",
       "      <td>0.044950</td>\n",
       "      <td>-0.035185</td>\n",
       "      <td>-0.143806</td>\n",
       "      <td>0.074930</td>\n",
       "      <td>0.025803</td>\n",
       "      <td>-0.149940</td>\n",
       "      <td>1.000000</td>\n",
       "    </tr>\n",
       "  </tbody>\n",
       "</table>\n",
       "</div>"
      ],
      "text/plain": [
       "                                   Hospital_code  City_Code_Hospital  \\\n",
       "Hospital_code                           1.000000            0.128403   \n",
       "City_Code_Hospital                      0.128403            1.000000   \n",
       "Available Extra Rooms in Hospital      -0.059348           -0.045547   \n",
       "Bed Grade                              -0.013627           -0.048096   \n",
       "City_Code_Patient                      -0.015709           -0.023951   \n",
       "Visitors with Patient                  -0.028103            0.019330   \n",
       "Admission_Deposit                       0.044950           -0.035185   \n",
       "\n",
       "                                   Available Extra Rooms in Hospital  \\\n",
       "Hospital_code                                              -0.059348   \n",
       "City_Code_Hospital                                         -0.045547   \n",
       "Available Extra Rooms in Hospital                           1.000000   \n",
       "Bed Grade                                                  -0.117125   \n",
       "City_Code_Patient                                          -0.009651   \n",
       "Visitors with Patient                                       0.096230   \n",
       "Admission_Deposit                                          -0.143806   \n",
       "\n",
       "                                   Bed Grade  City_Code_Patient  \\\n",
       "Hospital_code                      -0.013627          -0.015709   \n",
       "City_Code_Hospital                 -0.048096          -0.023951   \n",
       "Available Extra Rooms in Hospital  -0.117125          -0.009651   \n",
       "Bed Grade                           1.000000          -0.008105   \n",
       "City_Code_Patient                  -0.008105           1.000000   \n",
       "Visitors with Patient               0.088195          -0.012107   \n",
       "Admission_Deposit                   0.074930           0.025803   \n",
       "\n",
       "                                   Visitors with Patient  Admission_Deposit  \n",
       "Hospital_code                                  -0.028103           0.044950  \n",
       "City_Code_Hospital                              0.019330          -0.035185  \n",
       "Available Extra Rooms in Hospital               0.096230          -0.143806  \n",
       "Bed Grade                                       0.088195           0.074930  \n",
       "City_Code_Patient                              -0.012107           0.025803  \n",
       "Visitors with Patient                           1.000000          -0.149940  \n",
       "Admission_Deposit                              -0.149940           1.000000  "
      ]
     },
     "execution_count": 56,
     "metadata": {},
     "output_type": "execute_result"
    }
   ],
   "source": [
    "data.corr(numeric_only=True)"
   ]
  },
  {
   "cell_type": "code",
   "execution_count": 60,
   "id": "ec7b5a91-183e-4ab0-8613-b4aadeec4423",
   "metadata": {},
   "outputs": [
    {
     "data": {
      "text/plain": [
       "<Axes: >"
      ]
     },
     "execution_count": 60,
     "metadata": {},
     "output_type": "execute_result"
    },
    {
     "data": {
      "image/png": "[encoded data removed]",
      "text/plain": [
       "<Figure size 2000x2000 with 2 Axes>"
      ]
     },
     "metadata": {},
     "output_type": "display_data"
    }
   ],
   "source": [
    "plt.figure(figsize=(20,20))\n",
    "sns.heatmap(data.corr(numeric_only=True))"
   ]
  },
  {
   "cell_type": "markdown",
   "id": "042a5aa8-6bfb-46bd-8dba-21004051eef1",
   "metadata": {},
   "source": [
    "__Note :-__ we can see here no 2 columns are highly corelated here so no need to remove."
   ]
  },
  {
   "cell_type": "markdown",
   "id": "69417346-f95a-4795-a0ce-eb9f5829a372",
   "metadata": {},
   "source": [
    "# Step 4 :- Spliting the data set and handling data format and applying normalization"
   ]
  },
  {
   "cell_type": "code",
   "execution_count": 70,
   "id": "5f35cab4-6ca9-44c5-b8ce-a6e268ba12b3",
   "metadata": {},
   "outputs": [],
   "source": [
    "numerical_col=data.select_dtypes(exclude='O').columns.to_list()\n",
    "cat_col=['Hospital_type_code', 'Hospital_region_code', 'Department', 'Ward_Type',\n",
    "       'Ward_Facility_Code', 'Type of Admission', 'Severity of Illness', 'Age']\n",
    "transform=ColumnTransformer(transformers=[\n",
    "    ('num',StandardScaler(),numerical_col),\n",
    "    ('cat',OneHotEncoder(),cat_col)\n",
    "])"
   ]
  },
  {
   "cell_type": "code",
   "execution_count": 72,
   "id": "72bc1a27-ec83-495c-9bda-b79e212221e6",
   "metadata": {},
   "outputs": [],
   "source": [
    "# 1st apply split before transform , to avoid data leak\n",
    "X=data.drop('Stay',axis=1)\n",
    "Y=data['Stay']\n",
    "X_train, X_test, y_train, y_test = train_test_split( X, Y, test_size=0.33, random_state=42)"
   ]
  },
  {
   "cell_type": "code",
   "execution_count": 78,
   "id": "2b0b27aa-838f-4969-b924-c16953cbc9c2",
   "metadata": {},
   "outputs": [],
   "source": [
    "X_train=transform.fit_transform(X_train)\n",
    "X_test=transform.transform(X_test)\n",
    "label_encoder=LabelEncoder()\n",
    "y_train=label_encoder.fit_transform(y_train)\n",
    "y_test=label_encoder.transform(y_test)"
   ]
  },
  {
   "cell_type": "code",
   "execution_count": 82,
   "id": "05421de7-45ef-4c66-907d-2b7b9f4cf858",
   "metadata": {},
   "outputs": [
    {
     "data": {
      "text/plain": [
       "numpy.ndarray"
      ]
     },
     "execution_count": 82,
     "metadata": {},
     "output_type": "execute_result"
    }
   ],
   "source": [
    "type(X_train)"
   ]
  },
  {
   "cell_type": "code",
   "execution_count": 84,
   "id": "6e4c6c58-4adb-479d-b202-0b572f4487bb",
   "metadata": {},
   "outputs": [
    {
     "data": {
      "text/plain": [
       "numpy.ndarray"
      ]
     },
     "execution_count": 84,
     "metadata": {},
     "output_type": "execute_result"
    }
   ],
   "source": [
    "type(y_train)"
   ]
  },
  {
   "cell_type": "code",
   "execution_count": 86,
   "id": "807b17b8-917a-4e73-a0fe-f6b33f19566a",
   "metadata": {},
   "outputs": [],
   "source": [
    "X_train_tensor=torch.tensor(X_train,dtype=torch.float32)\n",
    "X_test_tensor=torch.tensor(X_test,dtype=torch.float32)\n",
    "y_train_tensor=torch.tensor(y_train,dtype=torch.float32)\n",
    "y_test_tensor=torch.tensor(y_test,dtype=torch.float32)"
   ]
  },
  {
   "cell_type": "markdown",
   "id": "d06420cc-2ba0-44fc-9c09-a637a1f17015",
   "metadata": {},
   "source": [
    "# Step 5 :- Developing Model and evaluation function"
   ]
  },
  {
   "cell_type": "code",
   "execution_count": 140,
   "id": "40773383-c054-4692-990d-6f32ac8e23b1",
   "metadata": {},
   "outputs": [],
   "source": [
    "class myModel(nn.Module):\n",
    "    def __init__(self):\n",
    "        super(myModel, self).__init__()\n",
    "        self.l1 = nn.Linear(X_train.shape[1], 512)\n",
    "        self.n1 = nn.LayerNorm(512)\n",
    "\n",
    "        self.l2 = nn.Linear(512, 128)\n",
    "        self.n2 = nn.LayerNorm(128)\n",
    "        self.d2 = nn.Dropout(0.5)\n",
    "\n",
    "        self.l3 = nn.Linear(128, 64)\n",
    "        self.n3 = nn.LayerNorm(64)\n",
    "        self.d3 = nn.Dropout(0.5)\n",
    "\n",
    "        self.l4 = nn.Linear(64, 11)\n",
    "\n",
    "    def forward(self, x):\n",
    "        x = F.leaky_relu(self.n1(self.l1(x)))\n",
    "        x = F.leaky_relu(self.n2(self.l2(x)))\n",
    "        x = self.d2(x)\n",
    "        x = F.leaky_relu(self.n3(self.l3(x)))\n",
    "        x = self.d3(x)\n",
    "        x = self.l4(x)  # Multi-class classification: softmax handled by cost function\n",
    "        return x\n"
   ]
  },
  {
   "cell_type": "code",
   "execution_count": 93,
   "id": "82503515-883e-4b41-b9f1-5e0f5fb86f6c",
   "metadata": {},
   "outputs": [],
   "source": [
    "# Let's create the dataset and data loader\n",
    "train_data_loader=DataLoader(TensorDataset(X_train_tensor,y_train_tensor),batch_size=64,shuffle=True)\n",
    "test_data_loader=DataLoader(TensorDataset(X_test_tensor,y_test_tensor),batch_size=64,shuffle=True)"
   ]
  },
  {
   "cell_type": "code",
   "execution_count": 148,
   "id": "9f9ac366-3ba3-48e7-910e-c1e9bc7ab02c",
   "metadata": {},
   "outputs": [],
   "source": [
    "def calculate_accuracy(model,loader):\n",
    "    model.eval()\n",
    "    total =0\n",
    "    correct =0\n",
    "    for x,y in loader:\n",
    "        y_pred=model(x)\n",
    "        _,y_pred=torch.max(y_pred.data,1)\n",
    "        total +=y.size(0)\n",
    "        correct += (y==y_pred).sum().item()\n",
    "\n",
    "    return 100*correct/total      \n",
    "         \n",
    "        "
   ]
  },
  {
   "cell_type": "code",
   "execution_count": 158,
   "id": "280122f9-4dcd-4460-9d64-c2cb63a071e6",
   "metadata": {},
   "outputs": [],
   "source": [
    "def train_evaluation_model(model, optim, cost_fun, patience=5, epochs=100, print_every=10):\n",
    "    train_loss_list = []\n",
    "    test_loss_list = []\n",
    "\n",
    "    # For early stopping\n",
    "    max_loss = float('inf')\n",
    "    patience_count = 0\n",
    "\n",
    "    # Training loop\n",
    "    for epoch in range(epochs):\n",
    "        model.train()  # Set model to training mode\n",
    "        train_loss = 0\n",
    "        for x, y in train_data_loader:\n",
    "            y_pred = model(x)\n",
    "            y = y.long()  # CrossEntropyLoss requires long labels\n",
    "            optim.zero_grad()\n",
    "            loss = cost_fun(y_pred, y)\n",
    "            loss.backward()\n",
    "            optim.step()\n",
    "            train_loss += loss.item()\n",
    "        train_loss /= len(train_data_loader)  # Average train loss\n",
    "        train_loss_list.append(train_loss)\n",
    "\n",
    "        # Testing loop\n",
    "        model.eval()  # Set model to evaluation mode\n",
    "        test_loss = 0\n",
    "        for x, y in test_data_loader:\n",
    "            y_pred = model(x)\n",
    "            y = y.long()\n",
    "            loss = cost_fun(y_pred, y)\n",
    "            test_loss += loss.item()\n",
    "        test_loss /= len(test_data_loader)\n",
    "        test_loss_list.append(test_loss)\n",
    "\n",
    "        # Accuracy calculation\n",
    "        train_accu = calculate_accuracy(model, train_data_loader)\n",
    "        test_accu = calculate_accuracy(model, test_data_loader)\n",
    "\n",
    "        # Printing progress\n",
    "        if (epoch + 1) % print_every == 0:\n",
    "            print(f'Epoch: {epoch + 1}, Train Accuracy: {train_accu:.4f}, Test Accuracy: {test_accu:.4f}')\n",
    "\n",
    "        # Early stopping\n",
    "        if max_loss > test_loss:\n",
    "            max_loss = test_loss\n",
    "            patience_count = 0\n",
    "        else:\n",
    "            patience_count += 1\n",
    "        if patience_count == patience:\n",
    "            print(f'Early stopping triggered at epoch {epoch + 1}')\n",
    "            break\n",
    "\n",
    "    # Plotting the loss curve\n",
    "    plt.figure(figsize=(10, 6))\n",
    "    plt.plot(train_loss_list, label='Train Loss')\n",
    "    plt.plot(test_loss_list, label='Test Loss')\n",
    "    plt.xlabel('Epochs')\n",
    "    plt.ylabel('Loss')\n",
    "    plt.legend()\n",
    "    plt.title(\"Loss Curve for Training and Testing\")\n",
    "    plt.show()\n"
   ]
  },
  {
   "cell_type": "markdown",
   "id": "d536f00b-99ee-4b91-ab3c-0dd37b504130",
   "metadata": {},
   "source": [
    "# Step 6 :- final model train and evaluation"
   ]
  },
  {
   "cell_type": "code",
   "execution_count": 162,
   "id": "5d2114b9-45e9-4d5a-a15c-98efd2afb0cf",
   "metadata": {},
   "outputs": [
    {
     "name": "stdout",
     "output_type": "stream",
     "text": [
      "Epoch: 10, Train Accuracy: 42.4104, Test Accuracy: 41.9480\n",
      "Epoch: 20, Train Accuracy: 43.1215, Test Accuracy: 41.9615\n",
      "Epoch: 30, Train Accuracy: 43.7170, Test Accuracy: 42.0542\n",
      "Epoch: 40, Train Accuracy: 43.8792, Test Accuracy: 42.0465\n",
      "Epoch: 50, Train Accuracy: 44.3011, Test Accuracy: 42.0224\n",
      "Epoch: 60, Train Accuracy: 44.6369, Test Accuracy: 41.9132\n",
      "Early stopping triggered at epoch 68\n"
     ]
    },
    {
     "data": {
      "image/png": "[encoded data removed]",
      "text/plain": [
       "<Figure size 1000x600 with 1 Axes>"
      ]
     },
     "metadata": {},
     "output_type": "display_data"
    }
   ],
   "source": [
    "model=myModel()\n",
    "criterion=nn.CrossEntropyLoss()\n",
    "optim=Adam(model.parameters(),lr=0.001)\n",
    "train_evaluation_model(model,optim,criterion,patience=50)"
   ]
  },
  {
   "cell_type": "code",
   "execution_count": null,
   "id": "7f60c234-c1ff-469a-b91e-bcad0e36c2e1",
   "metadata": {},
   "outputs": [],
   "source": []
  }
 ],
 "metadata": {
  "kernelspec": {
   "display_name": "Python 3.10",
   "language": "python",
   "name": "python3.10"
  },
  "language_info": {
   "codemirror_mode": {
    "name": "ipython",
    "version": 3
   },
   "file_extension": ".py",
   "mimetype": "text/x-python",
   "name": "python",
   "nbconvert_exporter": "python",
   "pygments_lexer": "ipython3",
   "version": "3.10.0"
  }
 },
 "nbformat": 4,
 "nbformat_minor": 5
}
